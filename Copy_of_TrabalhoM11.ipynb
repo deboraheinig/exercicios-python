{
  "nbformat": 4,
  "nbformat_minor": 0,
  "metadata": {
    "colab": {
      "name": "Copy of TrabalhoM11.ipynb",
      "provenance": [],
      "collapsed_sections": [],
      "include_colab_link": true
    },
    "kernelspec": {
      "name": "python3",
      "display_name": "Python 3"
    }
  },
  "cells": [
    {
      "cell_type": "markdown",
      "metadata": {
        "id": "view-in-github",
        "colab_type": "text"
      },
      "source": [
        "<a href=\"https://colab.research.google.com/github/deboraheinig/exercicios-python/blob/main/Copy_of_TrabalhoM11.ipynb\" target=\"_parent\"><img src=\"https://colab.research.google.com/assets/colab-badge.svg\" alt=\"Open In Colab\"/></a>"
      ]
    },
    {
      "cell_type": "markdown",
      "metadata": {
        "id": "YRsyM3rV3VN9"
      },
      "source": [
        "# Trabalho M1.1\n",
        "\n",
        "---\n",
        "\n"
      ]
    },
    {
      "cell_type": "markdown",
      "metadata": {
        "id": "1qz9G0gB-1Nz"
      },
      "source": [
        "### Problema 1\n",
        "\n",
        "---"
      ]
    },
    {
      "cell_type": "markdown",
      "metadata": {
        "id": "B9sFqd5Q-3Us"
      },
      "source": [
        "Um posto está vendendo combustíveis com a seguinte tabela de descontos:\n",
        "\n",
        "\n",
        "*   Álcool: até 20 litros, desconto de 3% por litro e acima de 20 litros, desconto de 5% por litro;\n",
        "*   Gasolina: até 20 litros, desconto de 4% por litro e acima de 20 litros, desconto\n",
        "de 6% por litro.\n",
        "\n",
        "Escreva um algoritmo que leia o número de litros vendidos, o tipo de\n",
        "combustível (A-álcool, G-gasolina) e imprima o valor a ser pago pelo cliente.\n",
        "Considere que o preço do litro da gasolina é 7,49 e o preço do litro do álcool é R$ 6,19. "
      ]
    },
    {
      "cell_type": "code",
      "metadata": {
        "id": "K8ansMRc-26b"
      },
      "source": [
        "print('*-=-=-=-=-=--=-=-=-=-=-=-=-=-=-=-=-=-=*')\n",
        "print('|            ÁLCOOL = 6,19            |')\n",
        "print('|    3% de desconto por litro         |')\n",
        "print('| 5% de desconto p/ mais de 20 litros |')\n",
        "print('*-=-=-=-=-=-=--=-=-=-=-=-=-=-=-=-=-=-=*')\n",
        "print('')\n",
        "\n",
        "print('*-=-=-=-=-=--=-=-=-=-=-=-=-=-=-=-=-=-=*')\n",
        "print('|            GASOLINA = 7,49          |')\n",
        "print('|    4% de desconto por litro         |')\n",
        "print('| 6% de desconto p/ mais de 20 litros |')\n",
        "print('*-=-=-=-=-=-=--=-=-=-=-=-=-=-=-=-=-=-=*')\n",
        "print('')\n",
        "\n",
        "combustivel = input(\"Pressione A para abastecer álcool ou G para abastecer gasolina: \")\n",
        "print('*******************')\n",
        "litros = float(input(\"Quantos litros voce deseja abastecer? \"))\n",
        "\n",
        "preco = 0\n",
        "\n",
        "if combustivel == \"a\" or combustivel == \"A\":\n",
        "    preco = litros * 6.19\n",
        "    \n",
        "    #Desconto de 3% por litro abaixo de 20L\n",
        "    if litros <= 20:\n",
        "        preco -= 6.19 * litros * 3 / 100\n",
        "        \n",
        "    #Desconto de 5% por litro acima de 20L\n",
        "    else:\n",
        "        preco -= 6.19 * litros * 5 / 100\n",
        "        \n",
        "elif combustivel == \"g\" or combustivel == \"G\":\n",
        "    preco = litros * 7.49\n",
        "    \n",
        "    #Desconto de 4% por litro abaixo de 20L\n",
        "    if litros <= 20:\n",
        "        preco -= 7.49 * litros * 4 / 100\n",
        "        \n",
        "    #Desconto de 6% por litro acima de 20L   \n",
        "    else:\n",
        "        preco -= 7.49 * litros * 6 / 100\n",
        "\n",
        "print('*******************')        \n",
        "print(f\"O valor total é de: R${preco:.2f}\")"
      ],
      "execution_count": null,
      "outputs": []
    },
    {
      "cell_type": "markdown",
      "metadata": {
        "id": "EzhgbRbg-3gb"
      },
      "source": [
        "### Problema 2\n",
        "\n",
        "---"
      ]
    },
    {
      "cell_type": "markdown",
      "metadata": {
        "id": "OkpnOoUD-2Qa"
      },
      "source": [
        "Escreva um algoritmo que solicite ao usuário um valor (total) em dinheiro, e informe a quantidade de notas de: 2 reais, 5 reais, 10 reais, 20 reais, 50 reais e 100 reais, e a quantidade de moedas de: 1 real, 50 centavos, 25 centavos, 10 centavos e 1 centavo que serão\n",
        "necessárias para compor este valor, de forma que seja utilizado o menor número de notas e moedas possível.\n"
      ]
    },
    {
      "cell_type": "code",
      "metadata": {
        "id": "355N0q58-3tS"
      },
      "source": [
        "while True:\n",
        "    valor = float(input('Por favor, insira um valor em dinheiro: '))\n",
        "    if valor == 0: # Para quando o valor digitado for 0\n",
        "        break\n",
        "\n",
        "    cem = int(valor // 100) # Notas de 100\n",
        "    valor -= cem * 100\n",
        "\n",
        "    cinquenta = int(valor // 50) # Notas de 50\n",
        "    valor -= cinquenta * 50\n",
        "\n",
        "    vinte = int(valor // 20) # Notas de 20\n",
        "    valor -= vinte * 20\n",
        "\n",
        "    dez = int(valor // 10) # Notas de 10\n",
        "    valor -= dez * 10\n",
        "\n",
        "    cinco = int(valor // 5) # Notas de 5\n",
        "    valor -= cinco * 5\n",
        "\n",
        "    dois = int(valor // 2) # Notas de 2\n",
        "    \n",
        "  \n",
        "    um = int(valor // 1) # Moedas de 1 centavo\n",
        "    valor -= um * 1\n",
        "\n",
        "    cinquentaCent = int(valor // 0.50) # Moedas de 50 centavos\n",
        "    valor -= cinquentaCent * 0.50\n",
        "\n",
        "    vinteCent = int(valor // 0.25) # Moedas de 20 centavos\n",
        "    valor -= vinteCent * 0.25\n",
        "\n",
        "    dezCent = int(valor // 0.10) # Moedas de 10 centavos\n",
        "    valor -= dezCent * 0.10\n",
        "\n",
        "    umCent = int(valor // 0.01) # Moedas de 1 centavo\n",
        "    valor -= umCent * 0.01\n",
        "    \n",
        "    print('Para compor esse valor, iremos utilizar:')\n",
        "    print('*-=-=-=-=-=--=-=-=-=-=-=-=-=-=-=-=-=-=*')\n",
        "    print (f'- {cem} Notas de R$100,00 \\n- {cinquenta} Notas de R$50,00\\n- {vinte} Notas de R$20,00\\n- {dez} Notas de R$10,00\\n- {cinco} Notas de R$5,00\\n- {dois} Notas de R$2,00')\n",
        "\n",
        "    print('*-=-=-=-=-=--=-=-=-=-=-=-=-=-=-=-=-=-=*')\n",
        "    print (f'- {um} Moedas de R$1,00 \\n- {cinquentaCent} Moedas de R$0,50\\n- {vinteCent} Moedas de R$0,25\\n- {dezCent} Moedas de R$0,10\\n- {umCent} Moedas de R$0,01')\n",
        "    print('*-=-=-=-=-=--=-=-=-=-=-=-=-=-=-=-=-=-=*')\n",
        "    "
      ],
      "execution_count": null,
      "outputs": []
    },
    {
      "cell_type": "markdown",
      "metadata": {
        "id": "9HnSaK6A3bKS"
      },
      "source": [
        "### Problema 3\n",
        "\n",
        "---\n",
        "\n"
      ]
    },
    {
      "cell_type": "markdown",
      "metadata": {
        "id": "7b8xDUz-3n9g"
      },
      "source": [
        "Faça um algoritmo que verifique e escreva todos os \n",
        "números inteiros perfeitos entre 1 a 10000.\n",
        "\n",
        "*Um número se diz perfeito se é igual à soma de seus divisores próprios. Divisores próprios de um número positivo N são todos os divisores inteiros positivos de N exceto o próprio N. Por exemplo, o número 6, seus divisores próprios são 1, 2 e 3, cuja soma é igual à 6. 28 também é um número perfeito, já que é divisível por 1, 2, 4, 7, 14*\n",
        "\n",
        "\n",
        "\n"
      ]
    },
    {
      "cell_type": "code",
      "metadata": {
        "id": "8osoQjQn3Stz"
      },
      "source": [
        "def numero(n):\n",
        "    soma = 0\n",
        "    for valor in range(1,n):\n",
        "        if n % valor == 0:\n",
        "            soma += valor\n",
        "\n",
        "    if soma == n:\n",
        "        return True\n",
        "    else:\n",
        "        return False\n",
        "        \n",
        "def perfeito():\n",
        "    n = int\n",
        "    print('*-=-=-=-=-=--=-=-=-=-=-=-=-=-=-=-=-=-=*')\n",
        "    print('Números perfeitos até o número 1000: ')\n",
        "    print('*-=-=-=-=-=--=-=-=-=-=-=-=-=-=-=-=-=-=*')\n",
        "    \n",
        "    for valor in range(1000):\n",
        "        if(numero(valor)):\n",
        "            print(valor)\n",
        "            \n",
        "while True:\n",
        "    perfeito()\n",
        "    print('*-=-=-=-=-=--=-=-=-=-=-=-=-=-=-=-=-=-=*')\n",
        "    break"
      ],
      "execution_count": null,
      "outputs": []
    },
    {
      "cell_type": "markdown",
      "metadata": {
        "id": "eXl63bNG9puV"
      },
      "source": [
        "### Problema 4\n",
        "\n",
        "---\n"
      ]
    },
    {
      "cell_type": "markdown",
      "metadata": {
        "id": "iNQsIm-L9rEP"
      },
      "source": [
        "A cifra de César é uma cifra de substituição simples em que cada letra do texto é substituída por outra letra movendo `n` posições no alfabeto. Por exemplo, suponha que o texto simples de entrada seja o seguinte:\n",
        "\n",
        "`abcd xyz bola`\n",
        "\n",
        "Se o valor de deslocamento, n, for 4, o texto criptografado seria o seguinte:\n",
        "\n",
        "`efgh bcd fspe`\n",
        "\n",
        "Escreva uma programa que tenha uma mensagem de texto simples e um número de letras para deslocar na cifra. Ela deve fazer uma string criptografada com todas as letras transformadas e toda a pontuação e espaço em branco permanecendo inalterados.\n",
        "\n",
        "Nota: Você pode presumir que o texto simples é todo em minúsculas, exceto para espaços em branco e pontuação.\n",
        "Podem criam uma string `alfabeto=\"abcdefghijklmnopqrstuvwxyz\"` para auxiliar."
      ]
    },
    {
      "cell_type": "code",
      "metadata": {
        "id": "kc6qsUUU-tde"
      },
      "source": [
        "alfabeto=[\"A\",\"B\",\"C\",\"D\",\"E\",\"F\",\"G\",\"H\",\"I\",\"J\",\"K\",\"L\",\"M\",\"N\",\"O\",\"P\",\"Q\",\n",
        "          \"R\",\"S\",\"T\",\"U\",\"V\",\"W\",\"X\",\"Y\",\"Z\",\" \"]\n",
        "alfabetoCripto=[\"D\",\"E\",\"F\",\"G\",\"H\",\"I\",\"J\",\"K\",\"L\",\"M\",\"N\",\"O\",\"P\",\"Q\",\"R\",\"S\",\n",
        "           \"T\",\"U\",\"V\",\"W\",\"X\",\"Y\",\"Z\",\"A\",\"B\",\"C\",\" \"]\n",
        "\n",
        "letra=[]\n",
        "print('*-=-=-=-=-=-=-=-=-=-=-=-=-=-=-*')\n",
        "print('|  Bem vindo a Cifra de Cesar |')\n",
        "print('*-=-=-=-=-=-=-=-=-=-=-=-=-=-=-*')\n",
        "print('')\n",
        "frase=input(\"Digite o texto a ser criptografado: \")\n",
        "\n",
        "fraseMaiuscula=frase.upper()\n",
        "\n",
        "for i in range(len(fraseMaiuscula)):\n",
        "    for j in range(len(alfabeto)):\n",
        "        if (fraseMaiuscula[i]==\" \"):\n",
        "            letra.append(26)\n",
        "            break\n",
        "        \n",
        "        if alfabeto[j]==fraseMaiuscula[i]:\n",
        "            letra.append(j)\n",
        "            \n",
        "print('*******************')\n",
        "print(\"Texto criptografado:\")\n",
        "print('*******************')\n",
        "\n",
        "for k in range(len(letra)):\n",
        "    print(alfabetoCripto[letra[k]],end=\" \")     \n",
        "print(\"\\n\")"
      ],
      "execution_count": null,
      "outputs": []
    }
  ]
}